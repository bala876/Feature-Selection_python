{
 "cells": [
  {
   "cell_type": "code",
   "execution_count": 1,
   "metadata": {},
   "outputs": [
    {
     "name": "stdout",
     "output_type": "stream",
     "text": [
      "     age  sex  cp  trestbps  chol  fbs  restecg  thalach  exang  oldpeak  \\\n",
      "0     63    1   3       145   233    1        0      150      0      2.3   \n",
      "1     37    1   2       130   250    0        1      187      0      3.5   \n",
      "2     41    0   1       130   204    0        0      172      0      1.4   \n",
      "3     56    1   1       120   236    0        1      178      0      0.8   \n",
      "4     57    0   0       120   354    0        1      163      1      0.6   \n",
      "..   ...  ...  ..       ...   ...  ...      ...      ...    ...      ...   \n",
      "298   57    0   0       140   241    0        1      123      1      0.2   \n",
      "299   45    1   3       110   264    0        1      132      0      1.2   \n",
      "300   68    1   0       144   193    1        1      141      0      3.4   \n",
      "301   57    1   0       130   131    0        1      115      1      1.2   \n",
      "302   57    0   1       130   236    0        0      174      0      0.0   \n",
      "\n",
      "     slope  ca  thal  target  \n",
      "0        0   0     1       1  \n",
      "1        0   0     2       1  \n",
      "2        2   0     2       1  \n",
      "3        2   0     2       1  \n",
      "4        2   0     2       1  \n",
      "..     ...  ..   ...     ...  \n",
      "298      1   0     3       0  \n",
      "299      1   0     3       0  \n",
      "300      1   2     3       0  \n",
      "301      1   1     3       0  \n",
      "302      1   1     2       0  \n",
      "\n",
      "[303 rows x 14 columns]\n"
     ]
    }
   ],
   "source": [
    "import pandas as pd \n",
    "import numpy as np\n",
    "heart = pd.read_csv(\"data/heart.csv\") # IMPORT THE DATASET\n",
    "print(heart)"
   ]
  },
  {
   "cell_type": "code",
   "execution_count": 2,
   "metadata": {},
   "outputs": [],
   "source": [
    "# SPLLITING DATASET\n",
    "attribute = ['age','sex','trestbps','chol','fbs','restecg','thalach','exang','oldpeak','slope','ca','thal']\n",
    "x=heart[attribute]\n",
    "# print(x)\n",
    "y=heart.target\n",
    "# print(y)"
   ]
  },
  {
   "cell_type": "code",
   "execution_count": 3,
   "metadata": {},
   "outputs": [
    {
     "data": {
      "text/plain": [
       "array([[ 63.,   1., 145., ...,   0.,   0.,   1.],\n",
       "       [ 37.,   1., 130., ...,   0.,   0.,   2.],\n",
       "       [ 41.,   0., 130., ...,   2.,   0.,   2.],\n",
       "       ...,\n",
       "       [ 68.,   1., 144., ...,   1.,   2.,   3.],\n",
       "       [ 57.,   1., 130., ...,   1.,   1.,   3.],\n",
       "       [ 57.,   0., 130., ...,   1.,   1.,   2.]])"
      ]
     },
     "execution_count": 3,
     "metadata": {},
     "output_type": "execute_result"
    }
   ],
   "source": [
    "#univarient feature selection- variance threshold\n",
    "from sklearn.feature_selection import VarianceThreshold\n",
    "selector= VarianceThreshold(threshold=0.0) #threshold value can be changed\n",
    "selector.fit_transform(x,y)"
   ]
  },
  {
   "cell_type": "code",
   "execution_count": 4,
   "metadata": {},
   "outputs": [
    {
     "data": {
      "text/plain": [
       "array([[ 63., 145., 233., 150.],\n",
       "       [ 37., 130., 250., 187.],\n",
       "       [ 41., 130., 204., 172.],\n",
       "       ...,\n",
       "       [ 68., 144., 193., 141.],\n",
       "       [ 57., 130., 131., 115.],\n",
       "       [ 57., 130., 236., 174.]])"
      ]
     },
     "execution_count": 4,
     "metadata": {},
     "output_type": "execute_result"
    }
   ],
   "source": [
    "#univarient feature selection- variance threshold\n",
    "from sklearn.feature_selection import VarianceThreshold\n",
    "selector= VarianceThreshold(threshold=10.2) #threshold value can be changed\n",
    "selector.fit_transform(x,y)"
   ]
  },
  {
   "cell_type": "code",
   "execution_count": 5,
   "metadata": {},
   "outputs": [
    {
     "data": {
      "text/plain": [
       "array([[ 63.,   1., 145., ...,   0.,   0.,   1.],\n",
       "       [ 37.,   1., 130., ...,   0.,   0.,   2.],\n",
       "       [ 41.,   0., 130., ...,   2.,   0.,   2.],\n",
       "       ...,\n",
       "       [ 68.,   1., 144., ...,   1.,   2.,   3.],\n",
       "       [ 57.,   1., 130., ...,   1.,   1.,   3.],\n",
       "       [ 57.,   0., 130., ...,   1.,   1.,   2.]])"
      ]
     },
     "execution_count": 5,
     "metadata": {},
     "output_type": "execute_result"
    }
   ],
   "source": [
    "#univarient feature selection- variance threshold\n",
    "from sklearn.feature_selection import VarianceThreshold\n",
    "selector= VarianceThreshold(threshold=-5.7) #threshold value can be changed\n",
    "selector.fit_transform(x,y)"
   ]
  },
  {
   "cell_type": "code",
   "execution_count": null,
   "metadata": {},
   "outputs": [],
   "source": []
  }
 ],
 "metadata": {
  "kernelspec": {
   "display_name": "Python 3",
   "language": "python",
   "name": "python3"
  },
  "language_info": {
   "codemirror_mode": {
    "name": "ipython",
    "version": 3
   },
   "file_extension": ".py",
   "mimetype": "text/x-python",
   "name": "python",
   "nbconvert_exporter": "python",
   "pygments_lexer": "ipython3",
   "version": "3.8.3"
  }
 },
 "nbformat": 4,
 "nbformat_minor": 4
}
