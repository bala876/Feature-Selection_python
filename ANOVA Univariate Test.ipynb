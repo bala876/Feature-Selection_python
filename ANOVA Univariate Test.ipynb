{
 "cells": [
  {
   "cell_type": "code",
   "execution_count": 2,
   "metadata": {},
   "outputs": [
    {
     "name": "stdout",
     "output_type": "stream",
     "text": [
      "     age  sex  cp  trestbps  chol  fbs  restecg  thalach  exang  oldpeak  \\\n",
      "0     63    1   3       145   233    1        0      150      0      2.3   \n",
      "1     37    1   2       130   250    0        1      187      0      3.5   \n",
      "2     41    0   1       130   204    0        0      172      0      1.4   \n",
      "3     56    1   1       120   236    0        1      178      0      0.8   \n",
      "4     57    0   0       120   354    0        1      163      1      0.6   \n",
      "..   ...  ...  ..       ...   ...  ...      ...      ...    ...      ...   \n",
      "298   57    0   0       140   241    0        1      123      1      0.2   \n",
      "299   45    1   3       110   264    0        1      132      0      1.2   \n",
      "300   68    1   0       144   193    1        1      141      0      3.4   \n",
      "301   57    1   0       130   131    0        1      115      1      1.2   \n",
      "302   57    0   1       130   236    0        0      174      0      0.0   \n",
      "\n",
      "     slope  ca  thal  target  \n",
      "0        0   0     1       1  \n",
      "1        0   0     2       1  \n",
      "2        2   0     2       1  \n",
      "3        2   0     2       1  \n",
      "4        2   0     2       1  \n",
      "..     ...  ..   ...     ...  \n",
      "298      1   0     3       0  \n",
      "299      1   0     3       0  \n",
      "300      1   2     3       0  \n",
      "301      1   1     3       0  \n",
      "302      1   1     2       0  \n",
      "\n",
      "[303 rows x 14 columns]\n"
     ]
    }
   ],
   "source": [
    "import pandas as pd \n",
    "import numpy as np\n",
    "heart = pd.read_csv(\"data/heart.csv\") # IMPORT THE DATASET\n",
    "print(heart)"
   ]
  },
  {
   "cell_type": "code",
   "execution_count": 3,
   "metadata": {},
   "outputs": [],
   "source": [
    "# SPLLITING DATASET\n",
    "attribute = ['age','sex','trestbps','chol','fbs','restecg','thalach','exang','oldpeak','slope','ca','thal']\n",
    "x=heart[attribute]\n",
    "# print(x)\n",
    "y=heart.target\n",
    "# print(y)"
   ]
  },
  {
   "cell_type": "code",
   "execution_count": 4,
   "metadata": {},
   "outputs": [
    {
     "name": "stdout",
     "output_type": "stream",
     "text": [
      "[16.117 25.792  6.458  2.203  0.237  5.777 65.12  70.952 68.551 40.902\n",
      " 54.56  40.408]\n",
      "[[150.    0.    2.3   0. ]\n",
      " [187.    0.    3.5   0. ]\n",
      " [172.    0.    1.4   0. ]\n",
      " [178.    0.    0.8   0. ]\n",
      " [163.    1.    0.6   0. ]]\n"
     ]
    }
   ],
   "source": [
    "from sklearn.feature_selection import  SelectKBest,f_classif\n",
    "from numpy import set_printoptions\n",
    "# feature extraction\n",
    "test = SelectKBest(score_func=f_classif, k=4)\n",
    "fit = test.fit(x,y)\n",
    "# summarize scores\n",
    "set_printoptions(precision=3)\n",
    "print(fit.scores_)\n",
    "features = fit.transform(x)\n",
    "# summarize selected features\n",
    "print(features[0:5,:])"
   ]
  },
  {
   "cell_type": "code",
   "execution_count": 5,
   "metadata": {},
   "outputs": [
    {
     "name": "stdout",
     "output_type": "stream",
     "text": [
      "[16.1166998 25.7921912  6.4581687  2.2029834  0.2369423  5.7772089\n",
      " 65.1201044 70.9524382 68.5514394 40.9020706 54.5598338 40.4076961]\n",
      "[[150.    0.    2.3   0.    0.    1. ]\n",
      " [187.    0.    3.5   0.    0.    2. ]\n",
      " [172.    0.    1.4   2.    0.    2. ]\n",
      " [178.    0.    0.8   2.    0.    2. ]\n",
      " [163.    1.    0.6   2.    0.    2. ]\n",
      " [148.    0.    0.4   1.    0.    1. ]\n",
      " [153.    0.    1.3   1.    0.    2. ]]\n"
     ]
    }
   ],
   "source": [
    "from sklearn.feature_selection import  SelectKBest,f_classif\n",
    "from numpy import set_printoptions\n",
    "# feature extraction\n",
    "test = SelectKBest(score_func=f_classif, k=6) # k value can be changed if required \n",
    "fit = test.fit(x,y)\n",
    "# summarize scores\n",
    "set_printoptions(precision=7)                 # precision value can be changed if required \n",
    "print(fit.scores_)\n",
    "features = fit.transform(x)\n",
    "# summarize selected features \n",
    "print(features[0:7,:])                        # ratio value can be changed if required "
   ]
  },
  {
   "cell_type": "code",
   "execution_count": 6,
   "metadata": {},
   "outputs": [
    {
     "name": "stdout",
     "output_type": "stream",
     "text": [
      "[16.1166998232 25.7921911538  6.458168674   2.2029834464  0.2369423359\n",
      "  5.7772089052 65.1201044012 70.9524382164 68.5514394103 40.9020706285\n",
      " 54.5598337958 40.4076961495]\n",
      "[[ 57.    1.  140.  148.    0.    0.4]\n",
      " [ 56.    0.  140.  153.    0.    1.3]\n",
      " [ 44.    1.  120.  173.    0.    0. ]\n",
      " [ 52.    1.  172.  162.    0.    0.5]\n",
      " [ 57.    1.  150.  174.    0.    1.6]]\n"
     ]
    }
   ],
   "source": [
    "from sklearn.feature_selection import  SelectKBest,f_classif\n",
    "from numpy import set_printoptions\n",
    "# feature extraction\n",
    "\n",
    "test = SelectKBest(score_func=f_classif, k=9) # k value can be changed if required \n",
    "fit = test.fit(x,y)\n",
    "\n",
    "# summarize scores\n",
    "\n",
    "set_printoptions(precision=10)                 # precision value can be changed if required \n",
    "print(fit.scores_)\n",
    "features = fit.transform(x)\n",
    "\n",
    "# summarize selected features \n",
    "print(features[5:10,:6])                        # ratio value can be changed if required "
   ]
  },
  {
   "cell_type": "code",
   "execution_count": null,
   "metadata": {},
   "outputs": [],
   "source": []
  }
 ],
 "metadata": {
  "kernelspec": {
   "display_name": "Python 3",
   "language": "python",
   "name": "python3"
  },
  "language_info": {
   "codemirror_mode": {
    "name": "ipython",
    "version": 3
   },
   "file_extension": ".py",
   "mimetype": "text/x-python",
   "name": "python",
   "nbconvert_exporter": "python",
   "pygments_lexer": "ipython3",
   "version": "3.8.3"
  }
 },
 "nbformat": 4,
 "nbformat_minor": 4
}
